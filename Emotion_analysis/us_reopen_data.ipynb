{
 "cells": [
  {
   "cell_type": "code",
   "execution_count": 1,
   "metadata": {},
   "outputs": [],
   "source": [
    "import sys\n",
    "sys.path.insert(0, '../')\n",
    "import config as cf\n",
    "import pandas as pd\n",
    "import re"
   ]
  },
  {
   "cell_type": "markdown",
   "metadata": {},
   "source": [
    "### Load Full Data:"
   ]
  },
  {
   "cell_type": "code",
   "execution_count": 2,
   "metadata": {},
   "outputs": [
    {
     "name": "stdout",
     "output_type": "stream",
     "text": [
      "Shape =  (4123702, 8)\n",
      "<class 'pandas.core.frame.DataFrame'>\n",
      "Int64Index: 4123702 entries, 1 to 5703589\n",
      "Data columns (total 8 columns):\n",
      "id               int64\n",
      "created_at       object\n",
      "original_text    object\n",
      "clean_text       object\n",
      "sentiment        object\n",
      "lang             object\n",
      "screen_name      object\n",
      "location         object\n",
      "dtypes: int64(1), object(7)\n",
      "memory usage: 283.2+ MB\n"
     ]
    }
   ],
   "source": [
    "df = pd.read_csv(cf.ALL_DATA)\n",
    "df = df.dropna()\n",
    "print(\"Shape = \", df.shape)\n",
    "df.info()"
   ]
  },
  {
   "cell_type": "markdown",
   "metadata": {},
   "source": [
    "### Filter US Data:"
   ]
  },
  {
   "cell_type": "code",
   "execution_count": 3,
   "metadata": {
    "scrolled": true
   },
   "outputs": [
    {
     "name": "stdout",
     "output_type": "stream",
     "text": [
      "Shape =  (426599, 8)\n",
      "<class 'pandas.core.frame.DataFrame'>\n",
      "Int64Index: 426599 entries, 5 to 5703588\n",
      "Data columns (total 8 columns):\n",
      "id               426599 non-null int64\n",
      "created_at       426599 non-null object\n",
      "original_text    426599 non-null object\n",
      "clean_text       426599 non-null object\n",
      "sentiment        426599 non-null object\n",
      "lang             426599 non-null object\n",
      "screen_name      426599 non-null object\n",
      "location         426599 non-null object\n",
      "dtypes: int64(1), object(7)\n",
      "memory usage: 29.3+ MB\n"
     ]
    }
   ],
   "source": [
    "us_states = [x.strip().lower() for x in list(cf.US_STATES.keys()) + list(cf.US_STATES.values())]\n",
    "\n",
    "def in_usa(x):\n",
    "    loc = str(x['location']).lower()\n",
    "    loc = loc.strip().replace('.','').split(',')\n",
    "    if any(x in us_states for x in loc):\n",
    "        return True\n",
    "    return False\n",
    "\n",
    "df_us = df[df.apply(lambda x: in_usa(x), axis=1)]\n",
    "df_us.to_csv(cf.US_DATA, index=False)\n",
    "print(\"Shape = \", df_us.shape)\n",
    "df_us.info()"
   ]
  },
  {
   "cell_type": "markdown",
   "metadata": {},
   "source": [
    "### Filter Reopen Data:"
   ]
  },
  {
   "cell_type": "code",
   "execution_count": 4,
   "metadata": {},
   "outputs": [
    {
     "name": "stdout",
     "output_type": "stream",
     "text": [
      "Shape =  (17359, 8)\n",
      "<class 'pandas.core.frame.DataFrame'>\n",
      "Int64Index: 17359 entries, 570 to 5703469\n",
      "Data columns (total 8 columns):\n",
      "id               17359 non-null int64\n",
      "created_at       17359 non-null object\n",
      "original_text    17359 non-null object\n",
      "clean_text       17359 non-null object\n",
      "sentiment        17359 non-null object\n",
      "lang             17359 non-null object\n",
      "screen_name      17359 non-null object\n",
      "location         17359 non-null object\n",
      "dtypes: int64(1), object(7)\n",
      "memory usage: 1.2+ MB\n"
     ]
    }
   ],
   "source": [
    "def has_open(x):\n",
    "    tag = str(x['original_text']).lower()\n",
    "    tag = re.findall('open', tag)\n",
    "    if len(tag) > 0:\n",
    "        return True\n",
    "    return False\n",
    "\n",
    "df_us_reopen = df_us[df_us.apply(lambda x: has_open(x), axis=1)]\n",
    "df_us_reopen.to_csv(cf.US_REOPEN_DATA, index=False)\n",
    "print(\"Shape = \", df_us_reopen.shape)\n",
    "df_us_reopen.info()"
   ]
  },
  {
   "cell_type": "code",
   "execution_count": null,
   "metadata": {},
   "outputs": [],
   "source": []
  }
 ],
 "metadata": {
  "kernelspec": {
   "display_name": "Python 3",
   "language": "python",
   "name": "python3"
  },
  "language_info": {
   "codemirror_mode": {
    "name": "ipython",
    "version": 3
   },
   "file_extension": ".py",
   "mimetype": "text/x-python",
   "name": "python",
   "nbconvert_exporter": "python",
   "pygments_lexer": "ipython3",
   "version": "3.7.7"
  }
 },
 "nbformat": 4,
 "nbformat_minor": 4
}
