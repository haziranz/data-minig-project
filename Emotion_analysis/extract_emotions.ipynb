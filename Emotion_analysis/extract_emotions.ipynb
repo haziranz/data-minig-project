{
 "cells": [
  {
   "cell_type": "code",
   "execution_count": 1,
   "metadata": {},
   "outputs": [],
   "source": [
    "import sys\n",
    "sys.path.insert(0, '../')\n",
    "import config as cf\n",
    "import os, ast, re, glob, json\n",
    "import pandas as pd\n",
    "tone_path = \"tones/itr_{}.json\"\n",
    "num_files = 442"
   ]
  },
  {
   "cell_type": "markdown",
   "metadata": {},
   "source": [
    "### Load US-reopen-emotion Data:"
   ]
  },
  {
   "cell_type": "code",
   "execution_count": 2,
   "metadata": {},
   "outputs": [
    {
     "name": "stdout",
     "output_type": "stream",
     "text": [
      "Shape =  (17359, 9)\n",
      "<class 'pandas.core.frame.DataFrame'>\n",
      "RangeIndex: 17359 entries, 0 to 17358\n",
      "Data columns (total 9 columns):\n",
      "id                   17359 non-null int64\n",
      "created_at           17359 non-null object\n",
      "original_text        17359 non-null object\n",
      "clean_text           17359 non-null object\n",
      "sentiment            17359 non-null object\n",
      "lang                 17359 non-null object\n",
      "screen_name          17359 non-null object\n",
      "location             17359 non-null object\n",
      "tone_format_tweet    17359 non-null object\n",
      "dtypes: int64(1), object(8)\n",
      "memory usage: 1.2+ MB\n"
     ]
    }
   ],
   "source": [
    "df = pd.read_csv(cf.US_REOPEN_EMOTION)\n",
    "print(\"Shape = \", df.shape)\n",
    "df.info()"
   ]
  },
  {
   "cell_type": "markdown",
   "metadata": {},
   "source": [
    "### Load Tone Dictionary:"
   ]
  },
  {
   "cell_type": "code",
   "execution_count": 3,
   "metadata": {},
   "outputs": [],
   "source": [
    "tone_dict = {}\n",
    "for i in range(1, num_files + 1):\n",
    "    tone_file = tone_path.format(i)\n",
    "    with open(tone_file, 'r') as ftone:\n",
    "        data = json.load(ftone)\n",
    "        for sent in data['sentences_tone']:\n",
    "            key = str(sent['text'])\n",
    "            val = list(sent['tones'])\n",
    "            try:\n",
    "                if val not in tone_dict[key]:\n",
    "                    tone_dict[key].append(val)\n",
    "            except KeyError:\n",
    "                tone_dict[key] = [val]"
   ]
  },
  {
   "cell_type": "markdown",
   "metadata": {},
   "source": [
    "### Retrive Emotions:"
   ]
  },
  {
   "cell_type": "code",
   "execution_count": 4,
   "metadata": {
    "scrolled": false
   },
   "outputs": [
    {
     "name": "stdout",
     "output_type": "stream",
     "text": [
      "Shape =  (17359, 10)\n",
      "<class 'pandas.core.frame.DataFrame'>\n",
      "RangeIndex: 17359 entries, 0 to 17358\n",
      "Data columns (total 10 columns):\n",
      "id                   17359 non-null int64\n",
      "created_at           17359 non-null object\n",
      "original_text        17359 non-null object\n",
      "clean_text           17359 non-null object\n",
      "sentiment            17359 non-null object\n",
      "lang                 17359 non-null object\n",
      "screen_name          17359 non-null object\n",
      "location             17359 non-null object\n",
      "tone_format_tweet    17359 non-null object\n",
      "emotions             17359 non-null object\n",
      "dtypes: int64(1), object(9)\n",
      "memory usage: 1.3+ MB\n"
     ]
    }
   ],
   "source": [
    "def get_tones(tweet):\n",
    "    tones = []\n",
    "    val = []\n",
    "    try:\n",
    "        val = tone_dict[tweet]\n",
    "    except:\n",
    "        pass\n",
    "    for t in val:\n",
    "        for c in t:\n",
    "            for e in t:\n",
    "                if e not in tones:\n",
    "                    tones.append(e)\n",
    "    return tones\n",
    "\n",
    "df_emos = df.copy()\n",
    "df_emos[\"emotions\"] = df_emos[\"tone_format_tweet\"].apply(get_tones)\n",
    "print(\"Shape = \", df_emos.shape)\n",
    "df_emos.info()"
   ]
  },
  {
   "cell_type": "markdown",
   "metadata": {},
   "source": [
    "### Filter Empty Response:"
   ]
  },
  {
   "cell_type": "code",
   "execution_count": 5,
   "metadata": {},
   "outputs": [
    {
     "name": "stdout",
     "output_type": "stream",
     "text": [
      "Shape =  (9957, 10)\n",
      "<class 'pandas.core.frame.DataFrame'>\n",
      "Int64Index: 9957 entries, 0 to 17358\n",
      "Data columns (total 10 columns):\n",
      "id                   9957 non-null int64\n",
      "created_at           9957 non-null object\n",
      "original_text        9957 non-null object\n",
      "clean_text           9957 non-null object\n",
      "sentiment            9957 non-null object\n",
      "lang                 9957 non-null object\n",
      "screen_name          9957 non-null object\n",
      "location             9957 non-null object\n",
      "tone_format_tweet    9957 non-null object\n",
      "emotions             9957 non-null object\n",
      "dtypes: int64(1), object(9)\n",
      "memory usage: 855.7+ KB\n"
     ]
    }
   ],
   "source": [
    "def has_tone(x):\n",
    "    e = x['emotions']\n",
    "    e = ast.literal_eval(str(e)) \n",
    "    if len(e) > 0:\n",
    "        return True\n",
    "    return False\n",
    "df_emos = df_emos[df_emos.apply(lambda x: has_tone(x), axis=1)]\n",
    "print(\"Shape = \", df_emos.shape)\n",
    "df_emos.info()"
   ]
  },
  {
   "cell_type": "markdown",
   "metadata": {},
   "source": [
    "### Extract Key Tones:"
   ]
  },
  {
   "cell_type": "code",
   "execution_count": 6,
   "metadata": {},
   "outputs": [
    {
     "name": "stdout",
     "output_type": "stream",
     "text": [
      "Shape =  (9957, 11)\n",
      "<class 'pandas.core.frame.DataFrame'>\n",
      "Int64Index: 9957 entries, 0 to 17358\n",
      "Data columns (total 11 columns):\n",
      "id                   9957 non-null int64\n",
      "created_at           9957 non-null object\n",
      "original_text        9957 non-null object\n",
      "clean_text           9957 non-null object\n",
      "sentiment            9957 non-null object\n",
      "lang                 9957 non-null object\n",
      "screen_name          9957 non-null object\n",
      "location             9957 non-null object\n",
      "tone_format_tweet    9957 non-null object\n",
      "emotions             9957 non-null object\n",
      "key_tones            9957 non-null object\n",
      "dtypes: int64(1), object(10)\n",
      "memory usage: 933.5+ KB\n"
     ]
    }
   ],
   "source": [
    "def get_key_tones(x):\n",
    "    tones = []\n",
    "    x = ast.literal_eval(str(x))\n",
    "    for t in x:\n",
    "        if t['tone_name'] not in tones:\n",
    "            tones.append(str(t['tone_name']))\n",
    "    return tones\n",
    "\n",
    "df_emos[\"key_tones\"] = df_emos[\"emotions\"].apply(get_key_tones)\n",
    "df_emos.to_csv(cf.US_REOPEN_EMOTION, index=False)\n",
    "print(\"Shape = \", df_emos.shape)\n",
    "df_emos.info()"
   ]
  },
  {
   "cell_type": "code",
   "execution_count": null,
   "metadata": {},
   "outputs": [],
   "source": []
  }
 ],
 "metadata": {
  "kernelspec": {
   "display_name": "Python 3",
   "language": "python",
   "name": "python3"
  },
  "language_info": {
   "codemirror_mode": {
    "name": "ipython",
    "version": 3
   },
   "file_extension": ".py",
   "mimetype": "text/x-python",
   "name": "python",
   "nbconvert_exporter": "python",
   "pygments_lexer": "ipython3",
   "version": "3.7.7"
  }
 },
 "nbformat": 4,
 "nbformat_minor": 4
}
