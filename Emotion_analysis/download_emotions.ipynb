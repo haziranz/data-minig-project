{
 "cells": [
  {
   "cell_type": "code",
   "execution_count": 1,
   "metadata": {},
   "outputs": [],
   "source": [
    "import sys\n",
    "sys.path.insert(0, '../')\n",
    "import config as cf\n",
    "import pandas as pd\n",
    "import re, json"
   ]
  },
  {
   "cell_type": "markdown",
   "metadata": {},
   "source": [
    "### Load US-reopen Data:"
   ]
  },
  {
   "cell_type": "code",
   "execution_count": 2,
   "metadata": {},
   "outputs": [
    {
     "name": "stdout",
     "output_type": "stream",
     "text": [
      "Shape =  (17359, 8)\n",
      "<class 'pandas.core.frame.DataFrame'>\n",
      "RangeIndex: 17359 entries, 0 to 17358\n",
      "Data columns (total 8 columns):\n",
      "id               17359 non-null int64\n",
      "created_at       17359 non-null object\n",
      "original_text    17359 non-null object\n",
      "clean_text       17359 non-null object\n",
      "sentiment        17359 non-null object\n",
      "lang             17359 non-null object\n",
      "screen_name      17359 non-null object\n",
      "location         17359 non-null object\n",
      "dtypes: int64(1), object(7)\n",
      "memory usage: 1.1+ MB\n"
     ]
    }
   ],
   "source": [
    "df = pd.read_csv(cf.US_REOPEN_DATA)\n",
    "print(\"Shape = \", df.shape)\n",
    "df.info()"
   ]
  },
  {
   "cell_type": "markdown",
   "metadata": {},
   "source": [
    "###  IBM WatsonTM Tone Analyzer Service:\n",
    "* python3 -m pip install --upgrade \"ibm-watson>=4.4.0\"\n",
    "* https://cloud.ibm.com/apidocs/tone-analyzer?code=python"
   ]
  },
  {
   "cell_type": "code",
   "execution_count": 3,
   "metadata": {},
   "outputs": [],
   "source": [
    "from ibm_watson import ToneAnalyzerV3\n",
    "from ibm_cloud_sdk_core.authenticators import IAMAuthenticator\n",
    "\n",
    "mVERSION = '2017-09-21'\n",
    "mAPI_KEY ='<api_key>'\n",
    "mEND_URL = \"https://api.us-south.tone-analyzer.watson.cloud.ibm.com/instances/<instance_id>\"\n",
    "\n",
    "authenticator = IAMAuthenticator(mAPI_KEY)\n",
    "tone_analyzer = ToneAnalyzerV3(\n",
    "    version=mVERSION,\n",
    "    authenticator=authenticator\n",
    ")\n",
    "tone_analyzer.set_service_url(mEND_URL)"
   ]
  },
  {
   "cell_type": "markdown",
   "metadata": {},
   "source": [
    "### Convert a tweet to a single sentence (may differ meaning):"
   ]
  },
  {
   "cell_type": "code",
   "execution_count": 4,
   "metadata": {},
   "outputs": [
    {
     "name": "stdout",
     "output_type": "stream",
     "text": [
      "Shape =  (17359, 9)\n",
      "<class 'pandas.core.frame.DataFrame'>\n",
      "Int64Index: 17359 entries, 0 to 17358\n",
      "Data columns (total 9 columns):\n",
      "id                   17359 non-null int64\n",
      "created_at           17359 non-null object\n",
      "original_text        17359 non-null object\n",
      "clean_text           17359 non-null object\n",
      "sentiment            17359 non-null object\n",
      "lang                 17359 non-null object\n",
      "screen_name          17359 non-null object\n",
      "location             17359 non-null object\n",
      "tone_format_tweet    17359 non-null object\n",
      "dtypes: int64(1), object(8)\n",
      "memory usage: 1.3+ MB\n"
     ]
    }
   ],
   "source": [
    "def get_ibm_tone_format_tweet(tweet):\n",
    "    tweet = tweet.replace('\\n\\n','; ') #newlines\n",
    "    if (tweet.startswith(\"RT \")): tweet = ' '.join(tweet.split()[2:]) #re-tweet\n",
    "    tweet = re.sub(cf.RX_MENTION, '', tweet) #mention\n",
    "    tweet = re.sub(cf.RX_HASHTAG, '', tweet) #hashtag\n",
    "    tweet = re.sub(cf.RX_URL, '', tweet) #url\n",
    "    tweet = re.sub(cf.RX_EMAIL, '', tweet) #email\n",
    "    tweet = re.sub(r\"[^A-Za-z0-9,;-_/]\", ' ', tweet) #non-ascii?\n",
    "    tweet = ' '.join(tweet.split()) #white spaces\n",
    "    if len(tweet.split()) < 3: return None #\n",
    "    tweet = (tweet if tweet[-1].isalnum() else tweet[:-1]) + \" .\" #dot\n",
    "    tweet = \"{}{}\".format(tweet[0].upper(),tweet[1:])\n",
    "    return tweet.strip()\n",
    "\n",
    "df['tone_format_tweet'] = df['original_text'].apply(lambda x: get_ibm_tone_format_tweet(x))\n",
    "df = df.dropna()\n",
    "df.to_csv(cf.US_REOPEN_EMOTION, index=False)\n",
    "print(\"Shape = \", df.shape)\n",
    "df.info()"
   ]
  },
  {
   "cell_type": "markdown",
   "metadata": {},
   "source": [
    "### Call API for max_limit=100 sentences:"
   ]
  },
  {
   "cell_type": "code",
   "execution_count": null,
   "metadata": {
    "scrolled": false
   },
   "outputs": [],
   "source": [
    "call_no = 0\n",
    "max_limit = 100\n",
    "max_idx, curr_idx, next_idx = df.shape[0], (call_no * max_limit + 0), (call_no * max_limit + max_limit)\n",
    "\n",
    "while curr_idx < max_idx:\n",
    "    call_no = call_no + 1\n",
    "    df_sub = df.iloc[curr_idx:next_idx, :]\n",
    "    \n",
    "    tweet_100 = \"\"\n",
    "    for tweet in df_sub['tone_format_tweet']:\n",
    "        tweet_100 = tweet_100 + \" \" + tweet\n",
    "        assert len(tweet_100.encode('utf-8')) < 127000 #127 KB\n",
    "\n",
    "    # call API with format\n",
    "    tone_analysis = tone_analyzer.tone(\n",
    "            tone_input={'text': tweet_100},\n",
    "            content_type='text/plain;charset=utf-8',\n",
    "            sentences='true'\n",
    "        ).get_result()\n",
    "    \n",
    "    # save json response\n",
    "    with open(\"tones/itr_{}.json\".format(call_no), 'w') as fj:\n",
    "        json.dump(tone_analysis, fj)\n",
    "    \n",
    "    # update for next 100 sentences\n",
    "    curr_idx = curr_idx + max_limit\n",
    "    next_idx = next_idx + max_limit\n",
    "    \n",
    "    # deleay between consecutive API call\n",
    "    time.sleep(1)\n",
    "    print(\"Saved for itr-{}: {} sentences.\".format(call_no, len(tone_analysis[\"sentences_tone\"])))"
   ]
  },
  {
   "cell_type": "code",
   "execution_count": null,
   "metadata": {},
   "outputs": [],
   "source": []
  }
 ],
 "metadata": {
  "kernelspec": {
   "display_name": "Python 3",
   "language": "python",
   "name": "python3"
  },
  "language_info": {
   "codemirror_mode": {
    "name": "ipython",
    "version": 3
   },
   "file_extension": ".py",
   "mimetype": "text/x-python",
   "name": "python",
   "nbconvert_exporter": "python",
   "pygments_lexer": "ipython3",
   "version": "3.7.7"
  }
 },
 "nbformat": 4,
 "nbformat_minor": 4
}
