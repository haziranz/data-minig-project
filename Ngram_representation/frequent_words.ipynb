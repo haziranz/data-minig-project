{
 "cells": [
  {
   "cell_type": "code",
   "execution_count": 1,
   "metadata": {},
   "outputs": [],
   "source": [
    "import sys\n",
    "sys.path.insert(0, '../')\n",
    "import config as cf\n",
    "import pandas as pd"
   ]
  },
  {
   "cell_type": "code",
   "execution_count": 2,
   "metadata": {},
   "outputs": [
    {
     "name": "stdout",
     "output_type": "stream",
     "text": [
      "Shape =  (44186, 8)\n",
      "<class 'pandas.core.frame.DataFrame'>\n",
      "Int64Index: 44186 entries, 0 to 44185\n",
      "Data columns (total 8 columns):\n",
      "id               44186 non-null int64\n",
      "created_at       44186 non-null object\n",
      "original_text    44186 non-null object\n",
      "clean_text       44186 non-null object\n",
      "sentiment        44186 non-null object\n",
      "lang             44186 non-null object\n",
      "screen_name      44186 non-null object\n",
      "location         44186 non-null object\n",
      "dtypes: int64(1), object(7)\n",
      "memory usage: 3.0+ MB\n"
     ]
    }
   ],
   "source": [
    "df = pd.read_csv(cf.US_REOPEN_DATA)\n",
    "df = df.dropna()\n",
    "print(\"Shape = \", df.shape)\n",
    "df.info()"
   ]
  },
  {
   "cell_type": "code",
   "execution_count": 3,
   "metadata": {
    "scrolled": false
   },
   "outputs": [
    {
     "data": {
      "text/plain": [
       "[('RT', 32818),\n",
       " ('to', 30933),\n",
       " ('the', 26192),\n",
       " ('and', 12536),\n",
       " ('of', 10964),\n",
       " ('open', 10756),\n",
       " ('in', 10451),\n",
       " ('is', 10172),\n",
       " ('a', 9766),\n",
       " ('reopen', 9632),\n",
       " ('are', 8756),\n",
       " ('for', 8620),\n",
       " ('reopening', 7764),\n",
       " ('on', 7620),\n",
       " ('you', 7306),\n",
       " ('will', 5831),\n",
       " ('that', 5522),\n",
       " ('be', 5156),\n",
       " ('The', 4503),\n",
       " ('up', 4226),\n",
       " ('we', 4184),\n",
       " ('can', 4167),\n",
       " ('opening', 4040),\n",
       " ('from', 3902),\n",
       " ('get', 3887),\n",
       " ('your', 3770),\n",
       " ('all', 3523),\n",
       " ('not', 3473),\n",
       " ('by', 3432),\n",
       " ('economy', 3289)]"
      ]
     },
     "execution_count": 3,
     "metadata": {},
     "output_type": "execute_result"
    }
   ],
   "source": [
    "import collections\n",
    "from collections import Counter\n",
    "from nltk.tokenize import TweetTokenizer\n",
    "\n",
    "df[\"key_words\"] = df[\"original_text\"].apply(lambda tweet: TweetTokenizer().tokenize(tweet))\n",
    "key_words = df[\"key_words\"].tolist()\n",
    "key_words = [each_word for each_list in key_words for each_word in each_list]\n",
    "key_words = [word for word in key_words if word.isalpha()]\n",
    "count = dict(Counter(key_words))\n",
    "count = sorted(count.items(), key=lambda x: x[1], reverse=True)\n",
    "count[:30]"
   ]
  },
  {
   "cell_type": "code",
   "execution_count": null,
   "metadata": {},
   "outputs": [],
   "source": []
  }
 ],
 "metadata": {
  "kernelspec": {
   "display_name": "Python 3",
   "language": "python",
   "name": "python3"
  },
  "language_info": {
   "codemirror_mode": {
    "name": "ipython",
    "version": 3
   },
   "file_extension": ".py",
   "mimetype": "text/x-python",
   "name": "python",
   "nbconvert_exporter": "python",
   "pygments_lexer": "ipython3",
   "version": "3.7.7"
  }
 },
 "nbformat": 4,
 "nbformat_minor": 4
}
